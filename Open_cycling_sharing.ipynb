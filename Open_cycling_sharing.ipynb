{
 "cells": [
  {
   "cell_type": "code",
   "execution_count": 13,
   "metadata": {},
   "outputs": [],
   "source": [
    "import pandas as pd\n",
    "import numpy as np\n",
    "%matplotlib inline"
   ]
  },
  {
   "cell_type": "code",
   "execution_count": 14,
   "metadata": {},
   "outputs": [],
   "source": [
    "df=pd.read_csv('June 2018 - Historic Frequency Data.csv',parse_dates=['dtm'])\n",
    "df=df.set_index('dtm')"
   ]
  },
  {
   "cell_type": "code",
   "execution_count": 15,
   "metadata": {},
   "outputs": [
    {
     "data": {
      "text/html": [
       "<div>\n",
       "<style scoped>\n",
       "    .dataframe tbody tr th:only-of-type {\n",
       "        vertical-align: middle;\n",
       "    }\n",
       "\n",
       "    .dataframe tbody tr th {\n",
       "        vertical-align: top;\n",
       "    }\n",
       "\n",
       "    .dataframe thead th {\n",
       "        text-align: right;\n",
       "    }\n",
       "</style>\n",
       "<table border=\"1\" class=\"dataframe\">\n",
       "  <thead>\n",
       "    <tr style=\"text-align: right;\">\n",
       "      <th></th>\n",
       "      <th>f</th>\n",
       "    </tr>\n",
       "    <tr>\n",
       "      <th>dtm</th>\n",
       "      <th></th>\n",
       "    </tr>\n",
       "  </thead>\n",
       "  <tbody>\n",
       "    <tr>\n",
       "      <th>2018-06-01 00:00:00</th>\n",
       "      <td>50.142</td>\n",
       "    </tr>\n",
       "    <tr>\n",
       "      <th>2018-06-01 00:00:01</th>\n",
       "      <td>50.140</td>\n",
       "    </tr>\n",
       "    <tr>\n",
       "      <th>2018-06-01 00:00:02</th>\n",
       "      <td>50.135</td>\n",
       "    </tr>\n",
       "    <tr>\n",
       "      <th>2018-06-01 00:00:03</th>\n",
       "      <td>50.130</td>\n",
       "    </tr>\n",
       "    <tr>\n",
       "      <th>2018-06-01 00:00:04</th>\n",
       "      <td>50.122</td>\n",
       "    </tr>\n",
       "  </tbody>\n",
       "</table>\n",
       "</div>"
      ],
      "text/plain": [
       "                          f\n",
       "dtm                        \n",
       "2018-06-01 00:00:00  50.142\n",
       "2018-06-01 00:00:01  50.140\n",
       "2018-06-01 00:00:02  50.135\n",
       "2018-06-01 00:00:03  50.130\n",
       "2018-06-01 00:00:04  50.122"
      ]
     },
     "execution_count": 15,
     "metadata": {},
     "output_type": "execute_result"
    }
   ],
   "source": [
    "df.head()"
   ]
  },
  {
   "cell_type": "code",
   "execution_count": 16,
   "metadata": {},
   "outputs": [],
   "source": [
    "#Defining curves to follow, for each frequency ppint we associate the corresponding level out output\n",
    "frequency_dev     = [-0.5,-0.4,-.3,-0.2,-0.1,-0.015,-0.0135,0,0.0135,0.015,0.1,0.2,0.3,0.4,0.5]\n",
    "frequency         = [x+50 for x in frequency_dev]\n",
    "\n",
    "Linear_Response   = [-100,-80,-60,-40,-20,-3,0,0,0 ,3,20,40,60, 80, 100]\n",
    "Response_MW       = [i * -0.01  for i in Linear_Response]"
   ]
  },
  {
   "cell_type": "code",
   "execution_count": 17,
   "metadata": {},
   "outputs": [],
   "source": [
    "#new output calculation based on grid frequency and repsonse table\n",
    "def FFR_response(f,MW,f_list):\n",
    "          \n",
    "    if f<f_list[0]:\n",
    "        output=MW[0]\n",
    "    else:\n",
    "        output=MW[-1]\n",
    "\n",
    "    for idx in range(0,len(f_list)-1):\n",
    "\n",
    "    #use corrdinates and linear interpolation between them \n",
    "        if f_list[idx+1] >  f >=   f_list[idx]:\n",
    "            output= (f-f_list[idx])/(f_list[idx+1]-f_list[idx])*(MW[idx+1]-MW[idx])+MW[idx]                    \n",
    "            break\n",
    "        \n",
    "        \n",
    "    return output "
   ]
  },
  {
   "cell_type": "code",
   "execution_count": 18,
   "metadata": {},
   "outputs": [
    {
     "name": "stdout",
     "output_type": "stream",
     "text": [
      "FFR linear response curve\n"
     ]
    },
    {
     "data": {
      "image/png": "[encoded data removed]",
      "text/plain": [
       "<Figure size 432x288 with 1 Axes>"
      ]
     },
     "metadata": {},
     "output_type": "display_data"
    }
   ],
   "source": [
    "\n",
    "# Plot frequency/battery MW  curve\n",
    "from functools import partial\n",
    "f_plot = pd.DataFrame(np.arange(49.4,50.6,0.01), columns=['freq'])\n",
    "f_plot['FFR response']  = f_plot['freq'].apply(FFR_response,args=(Response_MW ,frequency))\n",
    "\n",
    "f_plot.plot(x='freq')\n",
    "\n",
    "print('FFR linear response curve')"
   ]
  },
  {
   "cell_type": "code",
   "execution_count": 19,
   "metadata": {},
   "outputs": [],
   "source": [
    "#Appying the FFR response curve to the frequency\n",
    "df['MW']=df['f'].apply(FFR_response,args=(Response_MW,frequency))"
   ]
  },
  {
   "cell_type": "code",
   "execution_count": 20,
   "metadata": {},
   "outputs": [],
   "source": [
    "nb_day=len(df)/(24*60*60)\n",
    "Troughput_Discharged= df[df['MW']>0]['MW'].sum()/(60*60) #defined as the cumulative discharge through the system\n",
    "nb_cycle_per_day=Troughput_Discharged/nb_day"
   ]
  },
  {
   "cell_type": "code",
   "execution_count": 21,
   "metadata": {},
   "outputs": [
    {
     "name": "stdout",
     "output_type": "stream",
     "text": [
      "nb of cycles per day : 1.26\n"
     ]
    }
   ],
   "source": [
    "print ('nb of cycles per day :',np.round(nb_cycle_per_day,2))"
   ]
  },
  {
   "cell_type": "code",
   "execution_count": null,
   "metadata": {},
   "outputs": [],
   "source": []
  }
 ],
 "metadata": {
  "kernelspec": {
   "display_name": "Python 3",
   "language": "python",
   "name": "python3"
  },
  "language_info": {
   "codemirror_mode": {
    "name": "ipython",
    "version": 3
   },
   "file_extension": ".py",
   "mimetype": "text/x-python",
   "name": "python",
   "nbconvert_exporter": "python",
   "pygments_lexer": "ipython3",
   "version": "3.6.5"
  }
 },
 "nbformat": 4,
 "nbformat_minor": 2
}
